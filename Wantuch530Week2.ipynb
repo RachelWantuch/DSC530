{
 "cells": [
  {
   "cell_type": "markdown",
   "id": "9bdb0e63-e7ff-4930-838d-218282d381aa",
   "metadata": {},
   "source": [
    "# Week 2 Assignment - Rachel Wantuch- DSC 530"
   ]
  },
  {
   "cell_type": "markdown",
   "id": "6a43666a-9832-45bc-9e3d-8e5eab5529b0",
   "metadata": {},
   "source": [
    "## Intro"
   ]
  },
  {
   "cell_type": "code",
   "execution_count": 1,
   "id": "b453ce1d-dc04-42ee-8f39-dbad2ac0fc7b",
   "metadata": {},
   "outputs": [
    {
     "name": "stdout",
     "output_type": "stream",
     "text": [
      "Hello World! My name is Rachel Wantuch.\n"
     ]
    }
   ],
   "source": [
    "print(\"Hello World! My name is Rachel Wantuch.\")"
   ]
  },
  {
   "cell_type": "markdown",
   "id": "b29e8813-902f-48fc-889c-4c12207125b6",
   "metadata": {},
   "source": [
    "## Arithmetic"
   ]
  },
  {
   "cell_type": "markdown",
   "id": "4c1d8c31-8e33-4090-a89e-ab4e164b8ca4",
   "metadata": {},
   "source": [
    "### Addition"
   ]
  },
  {
   "cell_type": "code",
   "execution_count": 46,
   "id": "6f604007-3a98-4f24-98cc-4f637ecafc0f",
   "metadata": {},
   "outputs": [
    {
     "data": {
      "text/plain": [
       "13"
      ]
     },
     "execution_count": 46,
     "metadata": {},
     "output_type": "execute_result"
    }
   ],
   "source": [
    "# Accomplished using the '+' operator\n",
    "5+8"
   ]
  },
  {
   "cell_type": "markdown",
   "id": "41439ec5-4bb8-4d17-a706-a325a0eae434",
   "metadata": {},
   "source": [
    "### Subtraction"
   ]
  },
  {
   "cell_type": "code",
   "execution_count": 11,
   "id": "97a535c5-c7d1-4dc9-8509-bfab676f1583",
   "metadata": {},
   "outputs": [
    {
     "data": {
      "text/plain": [
       "7"
      ]
     },
     "execution_count": 11,
     "metadata": {},
     "output_type": "execute_result"
    }
   ],
   "source": [
    "# Accomplished using the \"-\" operator\n",
    "15-8"
   ]
  },
  {
   "cell_type": "markdown",
   "id": "d22e7df9-0cc4-41ec-9ad3-78a0bbd69b93",
   "metadata": {},
   "source": [
    "### Multiplication"
   ]
  },
  {
   "cell_type": "code",
   "execution_count": 13,
   "id": "baa70e23-5042-440b-a09c-09483019789b",
   "metadata": {},
   "outputs": [
    {
     "data": {
      "text/plain": [
       "27"
      ]
     },
     "execution_count": 13,
     "metadata": {},
     "output_type": "execute_result"
    }
   ],
   "source": [
    "# Accomplished using the '*' operator\n",
    "3*9"
   ]
  },
  {
   "cell_type": "markdown",
   "id": "98aae68d-174f-4d59-a9a5-be8cd4bba52b",
   "metadata": {},
   "source": [
    "### Division"
   ]
  },
  {
   "cell_type": "code",
   "execution_count": 15,
   "id": "1f660779-02cb-49d8-98fc-5e4daa745d6a",
   "metadata": {},
   "outputs": [
    {
     "data": {
      "text/plain": [
       "12.0"
      ]
     },
     "execution_count": 15,
     "metadata": {},
     "output_type": "execute_result"
    }
   ],
   "source": [
    "# Accomplloshed using the \"/\" operator\n",
    "144/12"
   ]
  },
  {
   "cell_type": "markdown",
   "id": "5a7214dd-7bff-4125-833c-225a9fec50ff",
   "metadata": {},
   "source": [
    "## Concatenating Strings"
   ]
  },
  {
   "cell_type": "code",
   "execution_count": 36,
   "id": "f966c0bc-99df-4336-ae7f-0a73626e4f49",
   "metadata": {},
   "outputs": [
    {
     "name": "stdout",
     "output_type": "stream",
     "text": [
      "I am pursuing my Master's in data science. This is my 4th class in the program.\n"
     ]
    }
   ],
   "source": [
    "a=\"I am pursuing my Master's in data science.\"\n",
    "b=\"This is my 4th class in the program.\"\n",
    "c= a + \" \"+ b\n",
    "# I added the space as its own entity and concatenated it with the strings.\n",
    "print(c)"
   ]
  },
  {
   "cell_type": "markdown",
   "id": "4e013257-423c-4c52-8ed6-33285bdc4f5b",
   "metadata": {},
   "source": [
    "## Lists and Tuples"
   ]
  },
  {
   "cell_type": "code",
   "execution_count": 48,
   "id": "70afbb83-1301-4f20-9323-4d65997da3fe",
   "metadata": {},
   "outputs": [
    {
     "name": "stdout",
     "output_type": "stream",
     "text": [
      "['sausage', 'olives', 'musrooms', 'pepperoni']\n"
     ]
    }
   ],
   "source": [
    "pizza_toppings=[\"sausage\", \"olives\", \"musrooms\", \"pepperoni\"]\n",
    "print(pizza_toppings)"
   ]
  },
  {
   "cell_type": "code",
   "execution_count": 23,
   "id": "a988d21c-ec1f-4df7-ba07-55cb3c673bec",
   "metadata": {},
   "outputs": [
    {
     "name": "stdout",
     "output_type": "stream",
     "text": [
      "['sausage', 'olives', 'musrooms', 'pepperoni', 'bell pepper']\n"
     ]
    }
   ],
   "source": [
    "pizza_toppings.append(\"bell pepper\")\n",
    "print(pizza_toppings)"
   ]
  },
  {
   "cell_type": "code",
   "execution_count": 27,
   "id": "8283022a-7d1d-4cf4-924f-03d10aa0acd4",
   "metadata": {},
   "outputs": [
    {
     "name": "stdout",
     "output_type": "stream",
     "text": [
      "{'hiking', 'reading', 'snorkeling', 'cooking'}\n"
     ]
    }
   ],
   "source": [
    "my_hobbies={\"snorkeling\", \"reading\", \"cooking\", \"hiking\"}\n",
    "print(my_hobbies)"
   ]
  }
 ],
 "metadata": {
  "kernelspec": {
   "display_name": "Python 3 (ipykernel)",
   "language": "python",
   "name": "python3"
  },
  "language_info": {
   "codemirror_mode": {
    "name": "ipython",
    "version": 3
   },
   "file_extension": ".py",
   "mimetype": "text/x-python",
   "name": "python",
   "nbconvert_exporter": "python",
   "pygments_lexer": "ipython3",
   "version": "3.12.7"
  }
 },
 "nbformat": 4,
 "nbformat_minor": 5
}
